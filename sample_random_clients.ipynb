{
 "cells": [
  {
   "cell_type": "code",
   "execution_count": 3,
   "metadata": {},
   "outputs": [
    {
     "name": "stdout",
     "output_type": "stream",
     "text": [
      "[12, 206, 214, 287, 388, 539, 555, 842, 871, 1457, 1523, 1580, 1772, 1833, 2089, 2137, 2165, 2260, 2478, 2689, 2807, 2873, 2878, 3228, 3233, 3322, 3332, 3645, 3830, 3884, 4120, 4176, 4227, 4362, 4481, 4598, 4721, 4792, 4894, 4945, 5009, 5045, 5453, 5506, 5658, 5663, 5761, 5815, 5885, 5974, ]\n"
     ]
    }
   ],
   "source": [
    "client_num = 6040\n",
    "sample_num = 50\n",
    "\n",
    "import numpy as np\n",
    "\n",
    "np.random.seed(0)\n",
    "client_ids = np.random.choice(client_num, sample_num, replace=False)\n",
    "client_ids = np.sort(client_ids)\n",
    "\n",
    "## print as [1, 2, 3, ...  50]\n",
    "print('[', end='')\n",
    "for i in range(sample_num):\n",
    "    print(client_ids[i], end=', ')\n",
    "\n",
    "print(']')\n"
   ]
  }
 ],
 "metadata": {
  "kernelspec": {
   "display_name": "fedsr",
   "language": "python",
   "name": "python3"
  },
  "language_info": {
   "codemirror_mode": {
    "name": "ipython",
    "version": 3
   },
   "file_extension": ".py",
   "mimetype": "text/x-python",
   "name": "python",
   "nbconvert_exporter": "python",
   "pygments_lexer": "ipython3",
   "version": "3.9.13"
  }
 },
 "nbformat": 4,
 "nbformat_minor": 2
}
