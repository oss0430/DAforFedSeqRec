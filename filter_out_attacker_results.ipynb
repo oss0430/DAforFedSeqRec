{
 "cells": [
  {
   "cell_type": "markdown",
   "metadata": {},
   "source": [
    "## This Codes reads client wise evaluation results to generate a summary of the evaluation results, We exclude attacking node evaluation results for fair comparison"
   ]
  },
  {
   "cell_type": "code",
   "execution_count": 9,
   "metadata": {},
   "outputs": [
    {
     "name": "stdout",
     "output_type": "stream",
     "text": [
      "attack_method: sr_targeted_random_sasrec\n",
      "250 of attackers : [6041, 6042, 6043, 6044, 6045, 6046, 6047, 6048, 6049, 6050, 6051, 6052, 6053, 6054, 6055, 6056, 6057, 6058, 6059, 6060, 6061, 6062, 6063, 6064, 6065, 6066, 6067, 6068, 6069, 6070, 6071, 6072, 6073, 6074, 6075, 6076, 6077, 6078, 6079, 6080, 6081, 6082, 6083, 6084, 6085, 6086, 6087, 6088, 6089, 6090, 6091, 6092, 6093, 6094, 6095, 6096, 6097, 6098, 6099, 6100, 6101, 6102, 6103, 6104, 6105, 6106, 6107, 6108, 6109, 6110, 6111, 6112, 6113, 6114, 6115, 6116, 6117, 6118, 6119, 6120, 6121, 6122, 6123, 6124, 6125, 6126, 6127, 6128, 6129, 6130, 6131, 6132, 6133, 6134, 6135, 6136, 6137, 6138, 6139, 6140, 6141, 6142, 6143, 6144, 6145, 6146, 6147, 6148, 6149, 6150, 6151, 6152, 6153, 6154, 6155, 6156, 6157, 6158, 6159, 6160, 6161, 6162, 6163, 6164, 6165, 6166, 6167, 6168, 6169, 6170, 6171, 6172, 6173, 6174, 6175, 6176, 6177, 6178, 6179, 6180, 6181, 6182, 6183, 6184, 6185, 6186, 6187, 6188, 6189, 6190, 6191, 6192, 6193, 6194, 6195, 6196, 6197, 6198, 6199, 6200, 6201, 6202, 6203, 6204, 6205, 6206, 6207, 6208, 6209, 6210, 6211, 6212, 6213, 6214, 6215, 6216, 6217, 6218, 6219, 6220, 6221, 6222, 6223, 6224, 6225, 6226, 6227, 6228, 6229, 6230, 6231, 6232, 6233, 6234, 6235, 6236, 6237, 6238, 6239, 6240, 6241, 6242, 6243, 6244, 6245, 6246, 6247, 6248, 6249, 6250, 6251, 6252, 6253, 6254, 6255, 6256, 6257, 6258, 6259, 6260, 6261, 6262, 6263, 6264, 6265, 6266, 6267, 6268, 6269, 6270, 6271, 6272, 6273, 6274, 6275, 6276, 6277, 6278, 6279, 6280, 6281, 6282, 6283, 6284, 6285, 6286, 6287, 6288, 6289, 6290]\n"
     ]
    }
   ],
   "source": [
    "import os\n",
    "\n",
    "eval_folder_path = \"exp/krum_sasrec_on_sr_data_lr0.001_lstep60/random_attack-250-client_wise_evaluation\"\n",
    "evaluation_log_path = os.path.join(eval_folder_path, \"eval_results.log\")\n",
    "config_path = os.path.join(eval_folder_path, \"config.yaml\")\n",
    "\n",
    "\n",
    "## read yaml for determine attack method and attacker node ids\n",
    "import yaml\n",
    "with open(config_path, \"r\") as f:\n",
    "    config = yaml.safe_load(f)\n",
    "    \n",
    "attack_method = config[\"attack\"][\"attack_method\"]\n",
    "attacker_id = config[\"attack\"][\"attacker_id\"]\n",
    "\n",
    "print(f\"attack_method: {attack_method}\")\n",
    "print(f\"{len(attacker_id)} of attackers : {attacker_id}\")\n"
   ]
  },
  {
   "cell_type": "code",
   "execution_count": 10,
   "metadata": {},
   "outputs": [
    {
     "name": "stdout",
     "output_type": "stream",
     "text": [
      "Number of clients: 6290\n",
      "Example of client result: {'Role': 'Client #1', 'Round': 201, 'Results_raw': {'val_avg_loss': 8.436644554138184, 'val_loss': 8.436644554138184, 'val_total': 1, 'val_poison_recall_10': 0.0, 'val_poison_recall_20': 0.0, 'val_poison_recall_50': 0.0, 'val_poison_ndcg_10': 0.0, 'val_poison_ndcg_20': 0.0, 'val_poison_ndcg_50': 0.0, 'val_recall_10': 0.0, 'val_recall_20': 0.0, 'val_ndcg_10': 0.0, 'val_ndcg_20': 0.0, 'test_avg_loss': 8.336087226867676, 'test_loss': 8.336087226867676, 'test_total': 1, 'test_poison_recall_10': 0.0, 'test_poison_recall_20': 1.0, 'test_poison_recall_50': 1.0, 'test_poison_ndcg_10': 0.0, 'test_poison_ndcg_20': 0.27023815442731974, 'test_poison_ndcg_50': 0.27023815442731974, 'test_recall_10': 0.0, 'test_recall_20': 0.0, 'test_ndcg_10': 0.0, 'test_ndcg_20': 0.0}}\n",
      "total raw results counts are : 6290\n",
      "Number of benign client results: 6040\n",
      "Round 201\n",
      "Averaged metrics: {'val_avg_loss': 8.577538700900133, 'val_loss': 8.577538700900133, 'val_total': 1.0, 'val_poison_recall_10': 0.0781456953642384, 'val_poison_recall_20': 0.16589403973509934, 'val_poison_recall_50': 0.24536423841059601, 'val_poison_ndcg_10': 0.02500608150248626, 'val_poison_ndcg_20': 0.04692724475928757, 'val_poison_ndcg_50': 0.06267554794547284, 'val_recall_10': 0.010596026490066225, 'val_recall_20': 0.014900662251655629, 'val_ndcg_10': 0.005127724922712848, 'val_ndcg_20': 0.0062006920411043125, 'test_avg_loss': 8.570934243683414, 'test_loss': 8.570934243683414, 'test_total': 1.0, 'test_poison_recall_10': 0.07880794701986756, 'test_poison_recall_20': 0.16390728476821192, 'test_poison_recall_50': 0.23990066225165563, 'test_poison_ndcg_10': 0.025098670620936358, 'test_poison_ndcg_20': 0.046284936798860817, 'test_poison_ndcg_50': 0.06134384539232987, 'test_recall_10': 0.010264900662251655, 'test_recall_20': 0.015066225165562913, 'test_ndcg_10': 0.005356416490794357, 'test_ndcg_20': 0.006530796492544327}\n",
      "Standard deviation of metrics: {'val_avg_loss': 3336.877538814074, 'val_loss': 3336.877538814074, 'val_total': 0.0, 'val_poison_recall_10': 435.11523178813593, 'val_poison_recall_20': 835.7741721854716, 'val_poison_recall_50': 1118.3701986755173, 'val_poison_ndcg_10': 45.64979559760468, 'val_poison_ndcg_20': 69.32166892910053, 'val_poison_ndcg_50': 77.84220850732672, 'val_recall_10': 63.32185430462883, 'val_recall_20': 88.6589403973582, 'val_ndcg_10': 18.170750837219664, 'val_ndcg_20': 19.719195928014983, 'test_avg_loss': 3494.2587140113665, 'test_loss': 3494.2587140113665, 'test_total': 0.0, 'test_poison_recall_10': 438.48741721856726, 'test_poison_recall_20': 827.7317880794762, 'test_poison_recall_50': 1101.383940397352, 'test_poison_ndcg_10': 45.453072295388, 'test_poison_ndcg_20': 68.29029471133612, 'test_poison_ndcg_50': 76.61048341445179, 'test_recall_10': 61.36357615894464, 'test_recall_20': 89.62897350993273, 'test_ndcg_10': 20.96233050939742, 'test_ndcg_20': 22.619669130363043}\n",
      "Min metrics: {'val_avg_loss': 0.1292935013771057, 'val_loss': 0.1292935013771057, 'val_total': 1, 'val_poison_recall_10': 0.0, 'val_poison_recall_20': 0.0, 'val_poison_recall_50': 0.0, 'val_poison_ndcg_10': 0.0, 'val_poison_ndcg_20': 0.0, 'val_poison_ndcg_50': 0.0, 'val_recall_10': 0.0, 'val_recall_20': 0.0, 'val_ndcg_10': 0.0, 'val_ndcg_20': 0.0, 'test_avg_loss': 0.03545517846941948, 'test_loss': 0.03545517846941948, 'test_total': 1, 'test_poison_recall_10': 0.0, 'test_poison_recall_20': 0.0, 'test_poison_recall_50': 0.0, 'test_poison_ndcg_10': 0.0, 'test_poison_ndcg_20': 0.0, 'test_poison_ndcg_50': 0.0, 'test_recall_10': 0.0, 'test_recall_20': 0.0, 'test_ndcg_10': 0.0, 'test_ndcg_20': 0.0}\n",
      "Max metrics: {'val_avg_loss': 14.652201652526855, 'val_loss': 14.652201652526855, 'val_total': 1, 'val_poison_recall_10': 1.0, 'val_poison_recall_20': 1.0, 'val_poison_recall_50': 1.0, 'val_poison_ndcg_10': 0.6309297535714575, 'val_poison_ndcg_20': 0.6309297535714575, 'val_poison_ndcg_50': 0.6309297535714575, 'val_recall_10': 1.0, 'val_recall_20': 1.0, 'val_ndcg_10': 1.0, 'val_ndcg_20': 1.0, 'test_avg_loss': 15.609325408935547, 'test_loss': 15.609325408935547, 'test_total': 1, 'test_poison_recall_10': 1.0, 'test_poison_recall_20': 1.0, 'test_poison_recall_50': 1.0, 'test_poison_ndcg_10': 0.6309297535714575, 'test_poison_ndcg_20': 0.6309297535714575, 'test_poison_ndcg_50': 0.6309297535714575, 'test_recall_10': 1.0, 'test_recall_20': 1.0, 'test_ndcg_10': 1.0, 'test_ndcg_20': 1.0}\n",
      "\n",
      "\n",
      "\n"
     ]
    }
   ],
   "source": [
    "## read evaluation log\n",
    "## we only require every client's Result_raw for each round\n",
    "from collections import defaultdict\n",
    "\"\"\"\n",
    "    {'Role': 'Client #*', 'Round': '*' : 'Results_raw' : {}}\n",
    "\"\"\"\n",
    "## parse the log file line by line\n",
    "raw_client_results = []\n",
    "with open(evaluation_log_path, \"r\") as f:\n",
    "    for line in f:\n",
    "        if \"Client #\" in line:\n",
    "            ## read line as dict\n",
    "            result_dict = eval(line)\n",
    "            raw_client_results.append(result_dict)\n",
    "            \n",
    "print(f\"Number of clients: {len(raw_client_results)}\")\n",
    "print(f\"Example of client result: {raw_client_results[0]}\")\n",
    "\n",
    "## iterate over all clients and extract the Results_raw group by round\n",
    "## exclude attacker id if matched client id\n",
    "round_results = defaultdict(list)\n",
    "print(f\"total raw results counts are : {len(raw_client_results)}\")\n",
    "for client_result in raw_client_results:\n",
    "    current_round = client_result['Round']\n",
    "    client_id = int(client_result['Role'].split(\"#\")[1])\n",
    "    if client_id in attacker_id:\n",
    "        #print(client_id)\n",
    "        continue\n",
    "    else :\n",
    "        round_results[current_round].append(client_result[\"Results_raw\"])\n",
    "\n",
    "## first key\n",
    "first_key = list(round_results.keys())[0]\n",
    "\n",
    "print(f\"Number of benign client results: {len(round_results[first_key])}\")\n",
    "\n",
    "eval_keys = list(round_results[first_key][0].keys())\n",
    "## 1. Average all metrics\n",
    "## 2. std of all metrics\n",
    "## 3. Min/Max of all metrics\n",
    "\n",
    "\n",
    "for round, client_results in round_results.items():\n",
    "    print(f\"Round {round}\")\n",
    "    ## 1. Average all metrics\n",
    "    avg_metrics = {key: 0.0 for key in eval_keys}\n",
    "    for client_result in client_results:\n",
    "        for key in eval_keys:\n",
    "            avg_metrics[key] += client_result[key]\n",
    "    for key in eval_keys:\n",
    "        avg_metrics[key] /= len(client_results)\n",
    "    print(f\"Averaged metrics: {avg_metrics}\")\n",
    "    ## 2. std of all metrics\n",
    "    std_metrics = {key: 0.0 for key in eval_keys}\n",
    "    for client_result in client_results:\n",
    "        for key in eval_keys:\n",
    "            std_metrics[key] += (client_result[key] - avg_metrics[key]) ** 2\n",
    "    \n",
    "    print(f\"Standard deviation of metrics: {std_metrics}\")\n",
    "    \n",
    "    ## 3. Min/Max of all metrics\n",
    "    min_metrics = {key: float('inf') for key in eval_keys}\n",
    "    max_metrics = {key: float('-inf') for key in eval_keys}\n",
    "    for client_result in client_results:\n",
    "        for key in eval_keys:\n",
    "            min_metrics[key] = min(min_metrics[key], client_result[key])\n",
    "            max_metrics[key] = max(max_metrics[key], client_result[key])\n",
    "    print(f\"Min metrics: {min_metrics}\")\n",
    "    print(f\"Max metrics: {max_metrics}\")\n",
    "    \n",
    "    print(\"\\n\\n\")\n",
    "\n"
   ]
  }
 ],
 "metadata": {
  "kernelspec": {
   "display_name": "fedsr",
   "language": "python",
   "name": "python3"
  },
  "language_info": {
   "codemirror_mode": {
    "name": "ipython",
    "version": 3
   },
   "file_extension": ".py",
   "mimetype": "text/x-python",
   "name": "python",
   "nbconvert_exporter": "python",
   "pygments_lexer": "ipython3",
   "version": "3.9.13"
  }
 },
 "nbformat": 4,
 "nbformat_minor": 2
}
