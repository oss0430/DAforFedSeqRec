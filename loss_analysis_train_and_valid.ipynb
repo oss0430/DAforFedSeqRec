{
 "cells": [
  {
   "cell_type": "code",
   "execution_count": 17,
   "metadata": {},
   "outputs": [],
   "source": [
    "import sys\n",
    "import os\n",
    "from typing import List, Dict, Tuple, Any\n",
    "\n",
    "eval_folder_path = \"exp/FedAvg_sasrec_on_sr_data_lr0.001_lstep5/random_augmented_5e-1\"\n",
    "print_log_path = os.path.join(eval_folder_path, \"exp_print.log\")\n",
    "evaluation_log_path = os.path.join(eval_folder_path, \"eval_results.log\")\n"
   ]
  },
  {
   "cell_type": "code",
   "execution_count": 18,
   "metadata": {},
   "outputs": [],
   "source": [
    "def load_log_file(file_path : str) -> str:\n",
    "    \"\"\"\n",
    "    Load the log file and return the content as string.\n",
    "    \"\"\"\n",
    "    with open(file_path, 'r') as file:\n",
    "        log_content = file.read()\n",
    "    \n",
    "    return log_content"
   ]
  },
  {
   "cell_type": "code",
   "execution_count": 19,
   "metadata": {},
   "outputs": [],
   "source": [
    "\n",
    "log_content = load_log_file(print_log_path)"
   ]
  },
  {
   "cell_type": "code",
   "execution_count": 20,
   "metadata": {},
   "outputs": [
    {
     "name": "stdout",
     "output_type": "stream",
     "text": [
      "{'client_num': 6290, 'attacker_id': [6041, 6042, 6043, 6044, 6045, 6046, 6047, 6048, 6049, 6050, 6051, 6052, 6053, 6054, 6055, 6056, 6057, 6058, 6059, 6060, 6061, 6062, 6063, 6064, 6065, 6066, 6067, 6068, 6069, 6070, 6071, 6072, 6073, 6074, 6075, 6076, 6077, 6078, 6079, 6080, 6081, 6082, 6083, 6084, 6085, 6086, 6087, 6088, 6089, 6090, 6091, 6092, 6093, 6094, 6095, 6096, 6097, 6098, 6099, 6100, 6101, 6102, 6103, 6104, 6105, 6106, 6107, 6108, 6109, 6110, 6111, 6112, 6113, 6114, 6115, 6116, 6117, 6118, 6119, 6120, 6121, 6122, 6123, 6124, 6125, 6126, 6127, 6128, 6129, 6130, 6131, 6132, 6133, 6134, 6135, 6136, 6137, 6138, 6139, 6140, 6141, 6142, 6143, 6144, 6145, 6146, 6147, 6148, 6149, 6150, 6151, 6152, 6153, 6154, 6155, 6156, 6157, 6158, 6159, 6160, 6161, 6162, 6163, 6164, 6165, 6166, 6167, 6168, 6169, 6170, 6171, 6172, 6173, 6174, 6175, 6176, 6177, 6178, 6179, 6180, 6181, 6182, 6183, 6184, 6185, 6186, 6187, 6188, 6189, 6190, 6191, 6192, 6193, 6194, 6195, 6196, 6197, 6198, 6199, 6200, 6201, 6202, 6203, 6204, 6205, 6206, 6207, 6208, 6209, 6210, 6211, 6212, 6213, 6214, 6215, 6216, 6217, 6218, 6219, 6220, 6221, 6222, 6223, 6224, 6225, 6226, 6227, 6228, 6229, 6230, 6231, 6232, 6233, 6234, 6235, 6236, 6237, 6238, 6239, 6240, 6241, 6242, 6243, 6244, 6245, 6246, 6247, 6248, 6249, 6250, 6251, 6252, 6253, 6254, 6255, 6256, 6257, 6258, 6259, 6260, 6261, 6262, 6263, 6264, 6265, 6266, 6267, 6268, 6269, 6270, 6271, 6272, 6273, 6274, 6275, 6276, 6277, 6278, 6279, 6280, 6281, 6282, 6283, 6284, 6285, 6286, 6287, 6288, 6289, 6290], 'total_round_num': 200, 'sample_client_num': 200, 'local_update_steps': 60}\n"
     ]
    }
   ],
   "source": [
    "## Federated Learning Infos\n",
    "import ast\n",
    "\n",
    "federated_configuration = {}\n",
    "\n",
    "federated_configuration[\"client_num\"] = ast.literal_eval(log_content.split('client_num: ')[1].split('\\n')[0]) ## To int\n",
    "federated_configuration[\"attacker_id\"] = ast.literal_eval(log_content.split('attacker_id: ')[1].split('\\n')[0]) ## To list\n",
    "federated_configuration[\"total_round_num\"] = ast.literal_eval(log_content.split('total_round_num: ')[1].split('\\n')[0]) ## To int\n",
    "federated_configuration[\"sample_client_num\"] = ast.literal_eval(log_content.split('sample_client_num: ')[1].split('\\n')[0]) ## To int\n",
    "federated_configuration[\"local_update_steps\"] = ast.literal_eval(log_content.split('local_update_steps: ')[2].split('\\n')[0]) ## To int\n",
    "\n",
    "print(federated_configuration)"
   ]
  },
  {
   "cell_type": "code",
   "execution_count": 21,
   "metadata": {},
   "outputs": [
    {
     "name": "stdout",
     "output_type": "stream",
     "text": [
      "23262\n",
      "0\n"
     ]
    }
   ],
   "source": [
    "import ast\n",
    "import re\n",
    "\n",
    "#local_results = log_content.split('(client:354)')[1:]\n",
    "\n",
    "## if key the line has '(client:354)' or '(sr_sybil_attack_server:560)' then that line is a hit\n",
    "local_train_report = []\n",
    "for line in log_content.split('\\n') :\n",
    "    if '(client:354)' in line or '(sr_sybil_attack_server:579)' in line :\n",
    "        local_train_report.append(line)\n",
    "\n",
    "#sprint(len(local_train_report))\n",
    "#print(local_train_report[0])\n",
    "## Split content by 'INFO: ' and convert to dictionary\n",
    "refined_local_results = []\n",
    "\n",
    "for local_result in local_train_report :\n",
    "    refined_str = local_result.split('INFO: ')[1]\n",
    "    refined_dict = ast.literal_eval(refined_str)\n",
    "    refined_local_results.append(refined_dict)\n",
    "\n",
    "print(len(refined_local_results))\n",
    "print(refined_local_results[0]['Round'])\n",
    "\n"
   ]
  },
  {
   "cell_type": "code",
   "execution_count": 22,
   "metadata": {},
   "outputs": [
    {
     "name": "stdout",
     "output_type": "stream",
     "text": [
      "4\n",
      "23258\n"
     ]
    }
   ],
   "source": [
    "## segregate attacker and non-attacker clients\n",
    "\n",
    "benign_clients_result = []\n",
    "malicious_clients_result = []\n",
    "\n",
    "def parse_client_id(role : str) -> int :\n",
    "    \"\"\"\n",
    "    Parse the client id from the role string such as 'Client #593'.\n",
    "    \"\"\"\n",
    "    return int(role.split('#')[1])\n",
    "\n",
    "for line_num, local_result in enumerate(refined_local_results):\n",
    "    current_id = parse_client_id(local_result['Role'])\n",
    "    \n",
    "    if current_id in federated_configuration[\"attacker_id\"]:\n",
    "        #print(f\"{line_num},{current_id}\")\n",
    "        malicious_clients_result.append(local_result)\n",
    "    else:\n",
    "        benign_clients_result.append(local_result)\n",
    "\n",
    "print(len(malicious_clients_result))\n",
    "print(len(benign_clients_result))\n"
   ]
  },
  {
   "cell_type": "code",
   "execution_count": 23,
   "metadata": {},
   "outputs": [
    {
     "data": {
      "image/png": "[encoded data removed]",
      "text/plain": [
       "<Figure size 640x480 with 1 Axes>"
      ]
     },
     "metadata": {},
     "output_type": "display_data"
    }
   ],
   "source": [
    "import matplotlib.pyplot as plt\n",
    "import matplotlib.patches as mpatches\n",
    "import numpy as np\n",
    "\n",
    "## x-axis : round, y-axis : loss mean, std, max, min\n",
    "\n",
    "## for each round loss values are\n",
    "benign_gradients = {i : [] for i in range(federated_configuration[\"total_round_num\"])}\n",
    "malicious_gradients = {i : [] for i in range(federated_configuration[\"total_round_num\"])}\n",
    "\n",
    "for local_result in benign_clients_result:\n",
    "    current_round = local_result['Round']\n",
    "    benign_gradients[current_round].append(local_result['Results_raw']['train_avg_loss'])\n",
    "    \n",
    "for local_result in malicious_clients_result:\n",
    "    current_round = local_result['Round']\n",
    "    malicious_gradients[current_round].append(local_result['Results_raw']['train_avg_loss'])\n",
    "\n",
    "benign_datas = [value for key, value in benign_gradients.items()]\n",
    "\n",
    "fig, ax = plt.subplots()\n",
    "\n",
    "benign_boxplot = ax.boxplot(benign_datas, showfliers=False, patch_artist=True, vert=True, labels=benign_gradients.keys(), manage_ticks=False)\n",
    "\n",
    "\n",
    "mean_malicious_gradients = np.zeros((federated_configuration[\"total_round_num\"]))\n",
    "for round, gradients in malicious_gradients.items():\n",
    "    if len(gradients) == 0:\n",
    "        mean_malicious_gradients[round] = np.nan\n",
    "    else: \n",
    "        mean_malicious_gradients[round] = np.mean(gradients)\n",
    "\n",
    "malicious_line_plot = ax.plot(mean_malicious_gradients, label='Malicious', color='red')\n",
    "\n",
    "plt.xlabel('Round')\n",
    "ax.set_xticks(np.arange(0, federated_configuration[\"total_round_num\"], 20))\n",
    "ax.grid(True)\n",
    "plt.ylabel('Mean Local Gradient')\n",
    "\n",
    "handles, labels = ax.get_legend_handles_labels()\n",
    "empty_boxplot_label = mpatches.Patch(color='black', label='Benign')\n",
    "handles.extend([empty_boxplot_label]) \n",
    "ax.legend(handles=handles)\n",
    "ax.set_ylim(0, 9)\n",
    "\n",
    "plt.show()\n",
    "\n",
    "\n",
    "\n"
   ]
  },
  {
   "cell_type": "code",
   "execution_count": 24,
   "metadata": {},
   "outputs": [
    {
     "name": "stdout",
     "output_type": "stream",
     "text": [
      "[16, 45, 64, 79, 92, 94, 97, 99, 111, 134, 170, 216, 219, 224, 226, 228, 233, 237, 366, 370, 370, 424, 531, 551, 583, 587, 599, 609, 643, 662, 676, 789, 810, 819, 863, 865, 875, 881, 891, 906, 906, 923, 939, 1027, 1030, 1052, 1131, 1150, 1186, 1223, 1236, 1237, 1241, 1252, 1259, 1260, 1263, 1275, 1305, 1338, 1340, 1346, 1354, 1373, 1463, 1478, 1480, 1484, 1492, 1500, 1515, 1544, 1565, 1592, 1598, 1625, 1667, 1755, 1773, 1811, 1828, 1837, 1839, 1851, 1853, 1908, 1930, 1967, 1968, 1999, 2026, 2034, 2043, 2045, 2125, 2165, 2210, 2224, 2232, 2241, 2275, 2303, 2303, 2360, 2397, 2415, 2415, 2426, 2428, 2453, 2461, 2479, 2484, 2491, 2499, 2523, 2566, 2572, 2615, 2640, 2668, 2714, 2735, 2757, 2757, 2806, 2853, 2880, 2891, 2938, 2988, 3020, 3088, 3094, 3139, 3144, 3201, 3207, 3211, 3224, 3226, 3228, 3270, 3341, 3379, 3381, 3404, 3455, 3477, 3502, 3512, 3531, 3535, 3536, 3549, 3580, 3630, 3633, 3638, 3646, 3647, 3661, 3681, 3689, 3720, 3728, 3805, 3808, 3811, 3827, 3836, 3860, 3873, 3900, 3963, 3983, 3992, 3998, 4008, 4077, 4224, 4294, 4305, 4342, 4384, 4441, 4466, 4509, 4533, 4550, 4596, 4596, 4613, 4655, 4656, 4695, 4703, 4711, 4796, 4816, 4830, 4930, 4944, 4957, 4960, 5006, 5048, 5055, 5066, 5085, 5086, 5095, 5102, 5143, 5161, 5219, 5244, 5271, 5305, 5309, 5313, 5377, 5434, 5488, 5509, 5535, 5558, 5605, 5614, 5615, 5632, 5646, 5675, 5699, 5712, 5748, 5789, 5827, 5837, 5838, 5847, 5883, 5907, 5919, 5928, 5961, 6005, 6006, 6021, 6028]\n"
     ]
    }
   ],
   "source": [
    "import numpy as np\n",
    "\n",
    "## Sample random 250 client ids from all 6040 users. \n",
    "## 1 ~ 6040\n",
    "\n",
    "random_ids = np.random.randint(1, 6040, 250)\n",
    "random_ids = np.sort(random_ids)\n",
    "\n",
    "result_string = \"[\"\n",
    "for client_id in random_ids:\n",
    "    result_string += str(client_id) + \", \"\n",
    "\n",
    "result_string = result_string[:-2] + \"]\"    \n",
    "\n",
    "print(result_string)"
   ]
  }
 ],
 "metadata": {
  "kernelspec": {
   "display_name": "fedsr",
   "language": "python",
   "name": "python3"
  },
  "language_info": {
   "codemirror_mode": {
    "name": "ipython",
    "version": 3
   },
   "file_extension": ".py",
   "mimetype": "text/x-python",
   "name": "python",
   "nbconvert_exporter": "python",
   "pygments_lexer": "ipython3",
   "version": "3.9.13"
  }
 },
 "nbformat": 4,
 "nbformat_minor": 2
}
