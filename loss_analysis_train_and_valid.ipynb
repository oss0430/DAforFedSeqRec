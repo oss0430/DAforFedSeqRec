{
 "cells": [
  {
   "cell_type": "code",
   "execution_count": 1,
   "metadata": {},
   "outputs": [],
   "source": [
    "import sys\n",
    "import os\n",
    "from typing import List, Dict, Tuple, Any\n",
    "\n",
    "eval_folder_path = \"exp/FedAvg_sasrec_on_sr_data_lr0.001_lstep20/Amazon-Sports_30K-Rounds_NCR_16_CE_Loss_lr_1e-4\"\n",
    "print_log_path = os.path.join(eval_folder_path, \"exp_print.log\")\n",
    "evaluation_log_path = os.path.join(eval_folder_path, \"eval_results.log\")\n"
   ]
  },
  {
   "cell_type": "code",
   "execution_count": 2,
   "metadata": {},
   "outputs": [],
   "source": [
    "def load_log_file(file_path : str) -> str:\n",
    "    \"\"\"\n",
    "    Load the log file and return the content as string.\n",
    "    \"\"\"\n",
    "    with open(file_path, 'r') as file:\n",
    "        log_content = file.read()\n",
    "    \n",
    "    return log_content"
   ]
  },
  {
   "cell_type": "code",
   "execution_count": 3,
   "metadata": {},
   "outputs": [],
   "source": [
    "\n",
    "log_content = load_log_file(print_log_path)"
   ]
  },
  {
   "cell_type": "code",
   "execution_count": 4,
   "metadata": {},
   "outputs": [
    {
     "name": "stdout",
     "output_type": "stream",
     "text": [
      "{'shadow_client_num': 35598, 'attacker_id': [], 'total_round_num': 30000, 'sample_client_num': 16, 'local_update_steps': 20, 'make_global_eval': True}\n"
     ]
    }
   ],
   "source": [
    "## Federated Learning Infos\n",
    "import ast\n",
    "\n",
    "federated_configuration = {}\n",
    "\n",
    "## Shadow Client Moderation\n",
    "federated_configuration[\"shadow_client_num\"] = ast.literal_eval(log_content.split('shadow_client_num: ')[1].split('\\n')[0]) ## To int\n",
    "#federated_configuration[\"client_num\"] = ast.literal_eval(log_content.split('client_num: ')[1].split('\\n')[0]) ## To int\n",
    "federated_configuration[\"attacker_id\"] = ast.literal_eval(log_content.split('attacker_id: ')[1].split('\\n')[0]) ## To list\n",
    "federated_configuration[\"total_round_num\"] = ast.literal_eval(log_content.split('total_round_num: ')[1].split('\\n')[0]) ## To int\n",
    "federated_configuration[\"sample_client_num\"] = ast.literal_eval(log_content.split('sample_client_num: ')[1].split('\\n')[0]) ## To int\n",
    "federated_configuration[\"local_update_steps\"] = ast.literal_eval(log_content.split('local_update_steps: ')[2].split('\\n')[0]) ## To int\n",
    "federated_configuration[\"make_global_eval\"] = ast.literal_eval(log_content.split('make_global_eval: ')[1].split('\\n')[0]) ## To bool\n",
    "\n",
    "print(federated_configuration)"
   ]
  },
  {
   "cell_type": "code",
   "execution_count": 5,
   "metadata": {},
   "outputs": [],
   "source": [
    "if federated_configuration[\"make_global_eval\"]:\n",
    "    evaluation_log = load_log_file(evaluation_log_path)"
   ]
  },
  {
   "cell_type": "code",
   "execution_count": 6,
   "metadata": {},
   "outputs": [
    {
     "name": "stdout",
     "output_type": "stream",
     "text": [
      "total : 480000 local results and 151 global results\n",
      "0\n"
     ]
    }
   ],
   "source": [
    "import ast\n",
    "import re\n",
    "\n",
    "#local_results = log_content.split('(client:354)')[1:]\n",
    "\n",
    "## if key the line has '(client:354)' or '(sr_sybil_attack_server:560)' then that line is a hit\n",
    "local_train_report = []\n",
    "global_eval_report = []\n",
    "for line in log_content.split('\\n') :\n",
    "    if '(client:354)' in line or '(sr_sybil_attack_server:579)' in line :\n",
    "        local_train_report.append(line)\n",
    "    elif '(server:615)' in line :\n",
    "        global_eval_report.append(line)\n",
    "\n",
    "refined_local_results = []\n",
    "refined_global_results = []\n",
    "\n",
    "for local_result in local_train_report :\n",
    "    refined_str = local_result.split('INFO: ')[1]\n",
    "    refined_dict = ast.literal_eval(refined_str)\n",
    "    refined_local_results.append(refined_dict)\n",
    "\n",
    "for global_result in global_eval_report :\n",
    "    refined_str = global_result.split('INFO: ')[1]\n",
    "    refined_dict = ast.literal_eval(refined_str)\n",
    "    refined_global_results.append(refined_dict)\n",
    "\n",
    "if federated_configuration[\"make_global_eval\"]:\n",
    "    refined_global_results = []\n",
    "    for line in evaluation_log.split('\\n') :\n",
    "        if line == '' :\n",
    "            continue\n",
    "        global_eval_result = ast.literal_eval(line)\n",
    "        refined_global_results.append(global_eval_result)\n",
    "\n",
    "\n",
    "print(f\"total : {len(refined_local_results)} local results and {len(refined_global_results)} global results\")\n",
    "print(refined_local_results[0]['Round'])\n",
    "\n"
   ]
  },
  {
   "cell_type": "code",
   "execution_count": 7,
   "metadata": {},
   "outputs": [
    {
     "name": "stdout",
     "output_type": "stream",
     "text": [
      "0\n",
      "480000\n"
     ]
    }
   ],
   "source": [
    "## segregate attacker and non-attacker clients\n",
    "\n",
    "benign_clients_result = []\n",
    "malicious_clients_result = []\n",
    "\n",
    "def parse_client_id(role : str) -> int :\n",
    "    \"\"\"\n",
    "    Parse the client id from the role string such as 'Client #593'.\n",
    "    \"\"\"\n",
    "    return int(role.split('#')[1])\n",
    "\n",
    "for line_num, local_result in enumerate(refined_local_results):\n",
    "    current_id = parse_client_id(local_result['Role'])\n",
    "    \n",
    "    if current_id in federated_configuration[\"attacker_id\"]:\n",
    "        #print(f\"{line_num},{current_id}\")\n",
    "        malicious_clients_result.append(local_result)\n",
    "    else:\n",
    "        benign_clients_result.append(local_result)\n",
    "\n",
    "print(len(malicious_clients_result))\n",
    "print(len(benign_clients_result))\n"
   ]
  },
  {
   "cell_type": "code",
   "execution_count": 8,
   "metadata": {},
   "outputs": [
    {
     "ename": "KeyboardInterrupt",
     "evalue": "",
     "output_type": "error",
     "traceback": [
      "\u001b[0;31m---------------------------------------------------------------------------\u001b[0m",
      "\u001b[0;31mKeyboardInterrupt\u001b[0m                         Traceback (most recent call last)",
      "\u001b[0;32m/tmp/ipykernel_964470/2858968175.py\u001b[0m in \u001b[0;36m<module>\u001b[0;34m\u001b[0m\n\u001b[1;32m     35\u001b[0m \u001b[0mfig\u001b[0m\u001b[0;34m,\u001b[0m \u001b[0max\u001b[0m \u001b[0;34m=\u001b[0m \u001b[0mplt\u001b[0m\u001b[0;34m.\u001b[0m\u001b[0msubplots\u001b[0m\u001b[0;34m(\u001b[0m\u001b[0;34m)\u001b[0m\u001b[0;34m\u001b[0m\u001b[0;34m\u001b[0m\u001b[0m\n\u001b[1;32m     36\u001b[0m \u001b[0;34m\u001b[0m\u001b[0m\n\u001b[0;32m---> 37\u001b[0;31m \u001b[0mbenign_boxplot\u001b[0m \u001b[0;34m=\u001b[0m \u001b[0max\u001b[0m\u001b[0;34m.\u001b[0m\u001b[0mboxplot\u001b[0m\u001b[0;34m(\u001b[0m\u001b[0mbenign_datas\u001b[0m\u001b[0;34m,\u001b[0m \u001b[0mshowfliers\u001b[0m\u001b[0;34m=\u001b[0m\u001b[0;32mFalse\u001b[0m\u001b[0;34m,\u001b[0m \u001b[0mpatch_artist\u001b[0m\u001b[0;34m=\u001b[0m\u001b[0;32mTrue\u001b[0m\u001b[0;34m,\u001b[0m \u001b[0mvert\u001b[0m\u001b[0;34m=\u001b[0m\u001b[0;32mTrue\u001b[0m\u001b[0;34m,\u001b[0m \u001b[0mlabels\u001b[0m\u001b[0;34m=\u001b[0m\u001b[0mbenign_loss\u001b[0m\u001b[0;34m.\u001b[0m\u001b[0mkeys\u001b[0m\u001b[0;34m(\u001b[0m\u001b[0;34m)\u001b[0m\u001b[0;34m,\u001b[0m \u001b[0mmanage_ticks\u001b[0m\u001b[0;34m=\u001b[0m\u001b[0;32mFalse\u001b[0m\u001b[0;34m)\u001b[0m\u001b[0;34m\u001b[0m\u001b[0;34m\u001b[0m\u001b[0m\n\u001b[0m\u001b[1;32m     38\u001b[0m \u001b[0;34m\u001b[0m\u001b[0m\n\u001b[1;32m     39\u001b[0m \u001b[0;34m\u001b[0m\u001b[0m\n",
      "\u001b[0;32m/mnt/conda/envs/fedsr/lib/python3.9/site-packages/matplotlib/__init__.py\u001b[0m in \u001b[0;36minner\u001b[0;34m(ax, data, *args, **kwargs)\u001b[0m\n\u001b[1;32m   1410\u001b[0m     \u001b[0;32mdef\u001b[0m \u001b[0minner\u001b[0m\u001b[0;34m(\u001b[0m\u001b[0max\u001b[0m\u001b[0;34m,\u001b[0m \u001b[0;34m*\u001b[0m\u001b[0margs\u001b[0m\u001b[0;34m,\u001b[0m \u001b[0mdata\u001b[0m\u001b[0;34m=\u001b[0m\u001b[0;32mNone\u001b[0m\u001b[0;34m,\u001b[0m \u001b[0;34m**\u001b[0m\u001b[0mkwargs\u001b[0m\u001b[0;34m)\u001b[0m\u001b[0;34m:\u001b[0m\u001b[0;34m\u001b[0m\u001b[0;34m\u001b[0m\u001b[0m\n\u001b[1;32m   1411\u001b[0m         \u001b[0;32mif\u001b[0m \u001b[0mdata\u001b[0m \u001b[0;32mis\u001b[0m \u001b[0;32mNone\u001b[0m\u001b[0;34m:\u001b[0m\u001b[0;34m\u001b[0m\u001b[0;34m\u001b[0m\u001b[0m\n\u001b[0;32m-> 1412\u001b[0;31m             \u001b[0;32mreturn\u001b[0m \u001b[0mfunc\u001b[0m\u001b[0;34m(\u001b[0m\u001b[0max\u001b[0m\u001b[0;34m,\u001b[0m \u001b[0;34m*\u001b[0m\u001b[0mmap\u001b[0m\u001b[0;34m(\u001b[0m\u001b[0msanitize_sequence\u001b[0m\u001b[0;34m,\u001b[0m \u001b[0margs\u001b[0m\u001b[0;34m)\u001b[0m\u001b[0;34m,\u001b[0m \u001b[0;34m**\u001b[0m\u001b[0mkwargs\u001b[0m\u001b[0;34m)\u001b[0m\u001b[0;34m\u001b[0m\u001b[0;34m\u001b[0m\u001b[0m\n\u001b[0m\u001b[1;32m   1413\u001b[0m \u001b[0;34m\u001b[0m\u001b[0m\n\u001b[1;32m   1414\u001b[0m         \u001b[0mbound\u001b[0m \u001b[0;34m=\u001b[0m \u001b[0mnew_sig\u001b[0m\u001b[0;34m.\u001b[0m\u001b[0mbind\u001b[0m\u001b[0;34m(\u001b[0m\u001b[0max\u001b[0m\u001b[0;34m,\u001b[0m \u001b[0;34m*\u001b[0m\u001b[0margs\u001b[0m\u001b[0;34m,\u001b[0m \u001b[0;34m**\u001b[0m\u001b[0mkwargs\u001b[0m\u001b[0;34m)\u001b[0m\u001b[0;34m\u001b[0m\u001b[0;34m\u001b[0m\u001b[0m\n",
      "\u001b[0;32m/mnt/conda/envs/fedsr/lib/python3.9/site-packages/matplotlib/axes/_axes.py\u001b[0m in \u001b[0;36mboxplot\u001b[0;34m(self, x, notch, sym, vert, whis, positions, widths, patch_artist, bootstrap, usermedians, conf_intervals, meanline, showmeans, showcaps, showbox, showfliers, boxprops, labels, flierprops, medianprops, meanprops, capprops, whiskerprops, manage_ticks, autorange, zorder)\u001b[0m\n\u001b[1;32m   3798\u001b[0m                                 \u001b[0mstats\u001b[0m\u001b[0;34m[\u001b[0m\u001b[0;34m'cihi'\u001b[0m\u001b[0;34m]\u001b[0m \u001b[0;34m=\u001b[0m \u001b[0mci\u001b[0m\u001b[0;34m[\u001b[0m\u001b[0;36m1\u001b[0m\u001b[0;34m]\u001b[0m\u001b[0;34m\u001b[0m\u001b[0;34m\u001b[0m\u001b[0m\n\u001b[1;32m   3799\u001b[0m \u001b[0;34m\u001b[0m\u001b[0m\n\u001b[0;32m-> 3800\u001b[0;31m         artists = self.bxp(bxpstats, positions=positions, widths=widths,\n\u001b[0m\u001b[1;32m   3801\u001b[0m                            \u001b[0mvert\u001b[0m\u001b[0;34m=\u001b[0m\u001b[0mvert\u001b[0m\u001b[0;34m,\u001b[0m \u001b[0mpatch_artist\u001b[0m\u001b[0;34m=\u001b[0m\u001b[0mpatch_artist\u001b[0m\u001b[0;34m,\u001b[0m\u001b[0;34m\u001b[0m\u001b[0;34m\u001b[0m\u001b[0m\n\u001b[1;32m   3802\u001b[0m                            \u001b[0mshownotches\u001b[0m\u001b[0;34m=\u001b[0m\u001b[0mnotch\u001b[0m\u001b[0;34m,\u001b[0m \u001b[0mshowmeans\u001b[0m\u001b[0;34m=\u001b[0m\u001b[0mshowmeans\u001b[0m\u001b[0;34m,\u001b[0m\u001b[0;34m\u001b[0m\u001b[0;34m\u001b[0m\u001b[0m\n",
      "\u001b[0;32m/mnt/conda/envs/fedsr/lib/python3.9/site-packages/matplotlib/axes/_axes.py\u001b[0m in \u001b[0;36mbxp\u001b[0;34m(self, bxpstats, positions, widths, vert, patch_artist, shownotches, showmeans, showcaps, showbox, showfliers, boxprops, whiskerprops, flierprops, medianprops, capprops, meanprops, meanline, manage_ticks, zorder)\u001b[0m\n\u001b[1;32m   4028\u001b[0m             \u001b[0;31m# maybe draw the caps\u001b[0m\u001b[0;34m\u001b[0m\u001b[0;34m\u001b[0m\u001b[0m\n\u001b[1;32m   4029\u001b[0m             \u001b[0;32mif\u001b[0m \u001b[0mshowcaps\u001b[0m\u001b[0;34m:\u001b[0m\u001b[0;34m\u001b[0m\u001b[0;34m\u001b[0m\u001b[0m\n\u001b[0;32m-> 4030\u001b[0;31m                 \u001b[0mcaps\u001b[0m\u001b[0;34m.\u001b[0m\u001b[0mappend\u001b[0m\u001b[0;34m(\u001b[0m\u001b[0mdo_plot\u001b[0m\u001b[0;34m(\u001b[0m\u001b[0mcap_x\u001b[0m\u001b[0;34m,\u001b[0m \u001b[0mcap_lo\u001b[0m\u001b[0;34m,\u001b[0m \u001b[0;34m**\u001b[0m\u001b[0mcap_kw\u001b[0m\u001b[0;34m)\u001b[0m\u001b[0;34m)\u001b[0m\u001b[0;34m\u001b[0m\u001b[0;34m\u001b[0m\u001b[0m\n\u001b[0m\u001b[1;32m   4031\u001b[0m                 \u001b[0mcaps\u001b[0m\u001b[0;34m.\u001b[0m\u001b[0mappend\u001b[0m\u001b[0;34m(\u001b[0m\u001b[0mdo_plot\u001b[0m\u001b[0;34m(\u001b[0m\u001b[0mcap_x\u001b[0m\u001b[0;34m,\u001b[0m \u001b[0mcap_hi\u001b[0m\u001b[0;34m,\u001b[0m \u001b[0;34m**\u001b[0m\u001b[0mcap_kw\u001b[0m\u001b[0;34m)\u001b[0m\u001b[0;34m)\u001b[0m\u001b[0;34m\u001b[0m\u001b[0;34m\u001b[0m\u001b[0m\n\u001b[1;32m   4032\u001b[0m             \u001b[0;31m# draw the medians\u001b[0m\u001b[0;34m\u001b[0m\u001b[0;34m\u001b[0m\u001b[0m\n",
      "\u001b[0;32m/mnt/conda/envs/fedsr/lib/python3.9/site-packages/matplotlib/axes/_axes.py\u001b[0m in \u001b[0;36mdo_plot\u001b[0;34m(xs, ys, **kwargs)\u001b[0m\n\u001b[1;32m   3952\u001b[0m \u001b[0;34m\u001b[0m\u001b[0m\n\u001b[1;32m   3953\u001b[0m         \u001b[0;32mdef\u001b[0m \u001b[0mdo_plot\u001b[0m\u001b[0;34m(\u001b[0m\u001b[0mxs\u001b[0m\u001b[0;34m,\u001b[0m \u001b[0mys\u001b[0m\u001b[0;34m,\u001b[0m \u001b[0;34m**\u001b[0m\u001b[0mkwargs\u001b[0m\u001b[0;34m)\u001b[0m\u001b[0;34m:\u001b[0m\u001b[0;34m\u001b[0m\u001b[0;34m\u001b[0m\u001b[0m\n\u001b[0;32m-> 3954\u001b[0;31m             \u001b[0;32mreturn\u001b[0m \u001b[0mself\u001b[0m\u001b[0;34m.\u001b[0m\u001b[0mplot\u001b[0m\u001b[0;34m(\u001b[0m\u001b[0;34m*\u001b[0m\u001b[0;34m[\u001b[0m\u001b[0mxs\u001b[0m\u001b[0;34m,\u001b[0m \u001b[0mys\u001b[0m\u001b[0;34m]\u001b[0m\u001b[0;34m[\u001b[0m\u001b[0mmaybe_swap\u001b[0m\u001b[0;34m]\u001b[0m\u001b[0;34m,\u001b[0m \u001b[0;34m**\u001b[0m\u001b[0mkwargs\u001b[0m\u001b[0;34m)\u001b[0m\u001b[0;34m[\u001b[0m\u001b[0;36m0\u001b[0m\u001b[0;34m]\u001b[0m\u001b[0;34m\u001b[0m\u001b[0;34m\u001b[0m\u001b[0m\n\u001b[0m\u001b[1;32m   3955\u001b[0m \u001b[0;34m\u001b[0m\u001b[0m\n\u001b[1;32m   3956\u001b[0m         \u001b[0;32mdef\u001b[0m \u001b[0mdo_patch\u001b[0m\u001b[0;34m(\u001b[0m\u001b[0mxs\u001b[0m\u001b[0;34m,\u001b[0m \u001b[0mys\u001b[0m\u001b[0;34m,\u001b[0m \u001b[0;34m**\u001b[0m\u001b[0mkwargs\u001b[0m\u001b[0;34m)\u001b[0m\u001b[0;34m:\u001b[0m\u001b[0;34m\u001b[0m\u001b[0;34m\u001b[0m\u001b[0m\n",
      "\u001b[0;32m/mnt/conda/envs/fedsr/lib/python3.9/site-packages/matplotlib/axes/_axes.py\u001b[0m in \u001b[0;36mplot\u001b[0;34m(self, scalex, scaley, data, *args, **kwargs)\u001b[0m\n\u001b[1;32m   1633\u001b[0m         \u001b[0;32mfor\u001b[0m \u001b[0mline\u001b[0m \u001b[0;32min\u001b[0m \u001b[0mlines\u001b[0m\u001b[0;34m:\u001b[0m\u001b[0;34m\u001b[0m\u001b[0;34m\u001b[0m\u001b[0m\n\u001b[1;32m   1634\u001b[0m             \u001b[0mself\u001b[0m\u001b[0;34m.\u001b[0m\u001b[0madd_line\u001b[0m\u001b[0;34m(\u001b[0m\u001b[0mline\u001b[0m\u001b[0;34m)\u001b[0m\u001b[0;34m\u001b[0m\u001b[0;34m\u001b[0m\u001b[0m\n\u001b[0;32m-> 1635\u001b[0;31m         \u001b[0mself\u001b[0m\u001b[0;34m.\u001b[0m\u001b[0m_request_autoscale_view\u001b[0m\u001b[0;34m(\u001b[0m\u001b[0mscalex\u001b[0m\u001b[0;34m=\u001b[0m\u001b[0mscalex\u001b[0m\u001b[0;34m,\u001b[0m \u001b[0mscaley\u001b[0m\u001b[0;34m=\u001b[0m\u001b[0mscaley\u001b[0m\u001b[0;34m)\u001b[0m\u001b[0;34m\u001b[0m\u001b[0;34m\u001b[0m\u001b[0m\n\u001b[0m\u001b[1;32m   1636\u001b[0m         \u001b[0;32mreturn\u001b[0m \u001b[0mlines\u001b[0m\u001b[0;34m\u001b[0m\u001b[0;34m\u001b[0m\u001b[0m\n\u001b[1;32m   1637\u001b[0m \u001b[0;34m\u001b[0m\u001b[0m\n",
      "\u001b[0;32m/mnt/conda/envs/fedsr/lib/python3.9/site-packages/matplotlib/axes/_base.py\u001b[0m in \u001b[0;36m_request_autoscale_view\u001b[0;34m(self, tight, **kwargs)\u001b[0m\n\u001b[1;32m    787\u001b[0m     \u001b[0;32mdef\u001b[0m \u001b[0m_request_autoscale_view\u001b[0m\u001b[0;34m(\u001b[0m\u001b[0mself\u001b[0m\u001b[0;34m,\u001b[0m \u001b[0mtight\u001b[0m\u001b[0;34m=\u001b[0m\u001b[0;32mNone\u001b[0m\u001b[0;34m,\u001b[0m \u001b[0;34m**\u001b[0m\u001b[0mkwargs\u001b[0m\u001b[0;34m)\u001b[0m\u001b[0;34m:\u001b[0m\u001b[0;34m\u001b[0m\u001b[0;34m\u001b[0m\u001b[0m\n\u001b[1;32m    788\u001b[0m         \u001b[0;31m# kwargs are \"scalex\", \"scaley\" (& \"scalez\" for 3D) and default to True\u001b[0m\u001b[0;34m\u001b[0m\u001b[0;34m\u001b[0m\u001b[0m\n\u001b[0;32m--> 789\u001b[0;31m         \u001b[0mwant_scale\u001b[0m \u001b[0;34m=\u001b[0m \u001b[0;34m{\u001b[0m\u001b[0mname\u001b[0m\u001b[0;34m:\u001b[0m \u001b[0;32mTrue\u001b[0m \u001b[0;32mfor\u001b[0m \u001b[0mname\u001b[0m \u001b[0;32min\u001b[0m \u001b[0mself\u001b[0m\u001b[0;34m.\u001b[0m\u001b[0m_axis_names\u001b[0m\u001b[0;34m}\u001b[0m\u001b[0;34m\u001b[0m\u001b[0;34m\u001b[0m\u001b[0m\n\u001b[0m\u001b[1;32m    790\u001b[0m         \u001b[0;32mfor\u001b[0m \u001b[0mk\u001b[0m\u001b[0;34m,\u001b[0m \u001b[0mv\u001b[0m \u001b[0;32min\u001b[0m \u001b[0mkwargs\u001b[0m\u001b[0;34m.\u001b[0m\u001b[0mitems\u001b[0m\u001b[0;34m(\u001b[0m\u001b[0;34m)\u001b[0m\u001b[0;34m:\u001b[0m  \u001b[0;31m# Validate args before changing anything.\u001b[0m\u001b[0;34m\u001b[0m\u001b[0;34m\u001b[0m\u001b[0m\n\u001b[1;32m    791\u001b[0m             \u001b[0;32mif\u001b[0m \u001b[0mk\u001b[0m\u001b[0;34m.\u001b[0m\u001b[0mstartswith\u001b[0m\u001b[0;34m(\u001b[0m\u001b[0;34m\"scale\"\u001b[0m\u001b[0;34m)\u001b[0m\u001b[0;34m:\u001b[0m\u001b[0;34m\u001b[0m\u001b[0;34m\u001b[0m\u001b[0m\n",
      "\u001b[0;32m/mnt/conda/envs/fedsr/lib/python3.9/site-packages/matplotlib/axes/_base.py\u001b[0m in \u001b[0;36m<dictcomp>\u001b[0;34m(.0)\u001b[0m\n\u001b[1;32m    787\u001b[0m     \u001b[0;32mdef\u001b[0m \u001b[0m_request_autoscale_view\u001b[0m\u001b[0;34m(\u001b[0m\u001b[0mself\u001b[0m\u001b[0;34m,\u001b[0m \u001b[0mtight\u001b[0m\u001b[0;34m=\u001b[0m\u001b[0;32mNone\u001b[0m\u001b[0;34m,\u001b[0m \u001b[0;34m**\u001b[0m\u001b[0mkwargs\u001b[0m\u001b[0;34m)\u001b[0m\u001b[0;34m:\u001b[0m\u001b[0;34m\u001b[0m\u001b[0;34m\u001b[0m\u001b[0m\n\u001b[1;32m    788\u001b[0m         \u001b[0;31m# kwargs are \"scalex\", \"scaley\" (& \"scalez\" for 3D) and default to True\u001b[0m\u001b[0;34m\u001b[0m\u001b[0;34m\u001b[0m\u001b[0m\n\u001b[0;32m--> 789\u001b[0;31m         \u001b[0mwant_scale\u001b[0m \u001b[0;34m=\u001b[0m \u001b[0;34m{\u001b[0m\u001b[0mname\u001b[0m\u001b[0;34m:\u001b[0m \u001b[0;32mTrue\u001b[0m \u001b[0;32mfor\u001b[0m \u001b[0mname\u001b[0m \u001b[0;32min\u001b[0m \u001b[0mself\u001b[0m\u001b[0;34m.\u001b[0m\u001b[0m_axis_names\u001b[0m\u001b[0;34m}\u001b[0m\u001b[0;34m\u001b[0m\u001b[0;34m\u001b[0m\u001b[0m\n\u001b[0m\u001b[1;32m    790\u001b[0m         \u001b[0;32mfor\u001b[0m \u001b[0mk\u001b[0m\u001b[0;34m,\u001b[0m \u001b[0mv\u001b[0m \u001b[0;32min\u001b[0m \u001b[0mkwargs\u001b[0m\u001b[0;34m.\u001b[0m\u001b[0mitems\u001b[0m\u001b[0;34m(\u001b[0m\u001b[0;34m)\u001b[0m\u001b[0;34m:\u001b[0m  \u001b[0;31m# Validate args before changing anything.\u001b[0m\u001b[0;34m\u001b[0m\u001b[0;34m\u001b[0m\u001b[0m\n\u001b[1;32m    791\u001b[0m             \u001b[0;32mif\u001b[0m \u001b[0mk\u001b[0m\u001b[0;34m.\u001b[0m\u001b[0mstartswith\u001b[0m\u001b[0;34m(\u001b[0m\u001b[0;34m\"scale\"\u001b[0m\u001b[0;34m)\u001b[0m\u001b[0;34m:\u001b[0m\u001b[0;34m\u001b[0m\u001b[0;34m\u001b[0m\u001b[0m\n",
      "\u001b[0;31mKeyboardInterrupt\u001b[0m: "
     ]
    },
    {
     "data": {
      "image/png": "[encoded data removed]",
      "text/plain": [
       "<Figure size 640x480 with 1 Axes>"
      ]
     },
     "metadata": {},
     "output_type": "display_data"
    }
   ],
   "source": [
    "import matplotlib.pyplot as plt\n",
    "import matplotlib.patches as mpatches\n",
    "import numpy as np\n",
    "\n",
    "## x-axis : round, y-axis : loss mean, std, max, min\n",
    "\n",
    "## for each round loss values are\n",
    "benign_loss = {i : [] for i in range(federated_configuration[\"total_round_num\"])}\n",
    "malicious_loss = {i : [] for i in range(federated_configuration[\"total_round_num\"])}\n",
    "global_valid_loss = {\"round\" : [], \"loss\" : []}\n",
    "for local_result in benign_clients_result:\n",
    "    current_round = local_result['Round']\n",
    "    benign_loss[current_round].append(local_result['Results_raw']['train_avg_loss'])\n",
    "    \n",
    "for local_result in malicious_clients_result:\n",
    "    current_round = local_result['Round']\n",
    "    malicious_loss[current_round].append(local_result['Results_raw']['train_avg_loss'])\n",
    "\n",
    "for global_result in refined_global_results:\n",
    "    current_round = global_result['Round']\n",
    "    if type(current_round) == str:\n",
    "        continue\n",
    "    if federated_configuration['make_global_eval']:\n",
    "        current_global_val_avg_loss = global_result['Results_raw']['val_avg_loss']\n",
    "    else :\n",
    "        current_global_val_avg_loss =  global_result['Results_avg']['val_avg_loss']\n",
    "    \n",
    "    \n",
    "    global_valid_loss['round'].append(current_round)\n",
    "    global_valid_loss['loss'].append(current_global_val_avg_loss)\n",
    "    \n",
    "\n",
    "benign_datas = [value for key, value in benign_loss.items()]\n",
    "\n",
    "fig, ax = plt.subplots()\n",
    "\n",
    "benign_boxplot = ax.boxplot(benign_datas, showfliers=False, patch_artist=True, vert=True, labels=benign_loss.keys(), manage_ticks=False)\n",
    "\n",
    "\n",
    "#mean_malicious_loss = np.zeros((federated_configuration[\"total_round_num\"]))\n",
    "#for round, gradients in malicious_loss.items():\n",
    "#    if len(gradients) == 0:\n",
    "#        mean_malicious_loss[round] = np.nan\n",
    "#    else: \n",
    "#        mean_malicious_loss[round] = np.mean(gradients)\n",
    "\n",
    "#malicious_line_plot = ax.plot(mean_malicious_loss, label='Malicious', color='red')\n",
    "\n",
    "## print valid loss from global results\n",
    "global_line_plot = ax.plot(global_valid_loss['round'], global_valid_loss['loss'], label='Average Valid Loss', color='purple')\n",
    "\n",
    "plt.xlabel('Round')\n",
    "ax.set_xticks(np.arange(0, federated_configuration[\"total_round_num\"], 100))\n",
    "ax.grid(True)\n",
    "plt.ylabel('Loss')\n",
    "\n",
    "handles, labels = ax.get_legend_handles_labels()\n",
    "empty_boxplot_label = mpatches.Patch(color='black', label='Train Loss')\n",
    "handles.extend([empty_boxplot_label]) \n",
    "ax.legend(handles=handles)\n",
    "#ax.set_ylim(7,8.5)\n",
    "\n",
    "plt.show()\n",
    "\n",
    "\n",
    "\n"
   ]
  }
 ],
 "metadata": {
  "kernelspec": {
   "display_name": "fedsr",
   "language": "python",
   "name": "python3"
  },
  "language_info": {
   "codemirror_mode": {
    "name": "ipython",
    "version": 3
   },
   "file_extension": ".py",
   "mimetype": "text/x-python",
   "name": "python",
   "nbconvert_exporter": "python",
   "pygments_lexer": "ipython3",
   "version": "3.9.13"
  }
 },
 "nbformat": 4,
 "nbformat_minor": 2
}
