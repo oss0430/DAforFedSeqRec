{
 "cells": [
  {
   "cell_type": "code",
   "execution_count": 33,
   "metadata": {},
   "outputs": [],
   "source": [
    "import sys\n",
    "import os\n",
    "from typing import List, Dict, Tuple, Any\n",
    "\n",
    "eval_folder_path = \"exp/shadow_sasrec_on_sr_data_lr0.001_lstep1/ML-1M_augmentation/rand_replace_1e-1\"\n",
    "print_log_path = os.path.join(eval_folder_path, \"exp_print.log\")\n",
    "evaluation_log_path = os.path.join(eval_folder_path, \"eval_results.log\")\n"
   ]
  },
  {
   "cell_type": "code",
   "execution_count": 34,
   "metadata": {},
   "outputs": [],
   "source": [
    "def load_log_file(file_path : str) -> str:\n",
    "    \"\"\"\n",
    "    Load the log file and return the content as string.\n",
    "    \"\"\"\n",
    "    with open(file_path, 'r') as file:\n",
    "        log_content = file.read()\n",
    "    \n",
    "    return log_content"
   ]
  },
  {
   "cell_type": "code",
   "execution_count": 35,
   "metadata": {},
   "outputs": [],
   "source": [
    "\n",
    "log_content = load_log_file(print_log_path)"
   ]
  },
  {
   "cell_type": "code",
   "execution_count": 36,
   "metadata": {},
   "outputs": [
    {
     "name": "stdout",
     "output_type": "stream",
     "text": [
      "{'shadow_client_num': 6040, 'attacker_id': [], 'total_round_num': 30000, 'sample_client_num': 16, 'local_update_steps': 1, 'make_global_eval': False}\n"
     ]
    }
   ],
   "source": [
    "## Federated Learning Infos\n",
    "import ast\n",
    "\n",
    "federated_configuration = {}\n",
    "\n",
    "## Shadow Client Moderation\n",
    "federated_configuration[\"shadow_client_num\"] = ast.literal_eval(log_content.split('shadow_client_num: ')[1].split('\\n')[0]) ## To int\n",
    "#federated_configuration[\"client_num\"] = ast.literal_eval(log_content.split('client_num: ')[1].split('\\n')[0]) ## To int\n",
    "federated_configuration[\"attacker_id\"] = ast.literal_eval(log_content.split('attacker_id: ')[1].split('\\n')[0]) ## To list\n",
    "federated_configuration[\"total_round_num\"] = ast.literal_eval(log_content.split('total_round_num: ')[1].split('\\n')[0]) ## To int\n",
    "federated_configuration[\"sample_client_num\"] = ast.literal_eval(log_content.split('sample_client_num: ')[1].split('\\n')[0]) ## To int\n",
    "federated_configuration[\"local_update_steps\"] = ast.literal_eval(log_content.split('local_update_steps: ')[2].split('\\n')[0]) ## To int\n",
    "federated_configuration[\"make_global_eval\"] = ast.literal_eval(log_content.split('make_global_eval: ')[1].split('\\n')[0]) ## To bool\n",
    "\n",
    "print(federated_configuration)"
   ]
  },
  {
   "cell_type": "code",
   "execution_count": 37,
   "metadata": {},
   "outputs": [],
   "source": [
    "if federated_configuration[\"make_global_eval\"]:\n",
    "    evaluation_log = load_log_file(evaluation_log_path)"
   ]
  },
  {
   "cell_type": "code",
   "execution_count": 38,
   "metadata": {},
   "outputs": [
    {
     "name": "stdout",
     "output_type": "stream",
     "text": [
      "total : 124016 local results and 31 global results\n",
      "0\n"
     ]
    }
   ],
   "source": [
    "import ast\n",
    "import re\n",
    "\n",
    "#local_results = log_content.split('(client:354)')[1:]\n",
    "\n",
    "## if key the line has '(client:354)' or '(sr_sybil_attack_server:560)' then that line is a hit\n",
    "local_train_report = []\n",
    "global_eval_report = []\n",
    "for line in log_content.split('\\n') :\n",
    "    if '(client:354)' in line or '(sr_sybil_attack_server:579)' in line :\n",
    "        local_train_report.append(line)\n",
    "    elif '(server:615)' in line :\n",
    "        global_eval_report.append(line)\n",
    "\n",
    "refined_local_results = []\n",
    "refined_global_results = []\n",
    "\n",
    "for local_result in local_train_report :\n",
    "    refined_str = local_result.split('INFO: ')[1]\n",
    "    refined_dict = ast.literal_eval(refined_str)\n",
    "    refined_local_results.append(refined_dict)\n",
    "\n",
    "for global_result in global_eval_report :\n",
    "    refined_str = global_result.split('INFO: ')[1]\n",
    "    refined_dict = ast.literal_eval(refined_str)\n",
    "    refined_global_results.append(refined_dict)\n",
    "\n",
    "if federated_configuration[\"make_global_eval\"]:\n",
    "    refined_global_results = []\n",
    "    for line in evaluation_log.split('\\n') :\n",
    "        if line == '' :\n",
    "            continue\n",
    "        global_eval_result = ast.literal_eval(line)\n",
    "        refined_global_results.append(global_eval_result)\n",
    "\n",
    "\n",
    "print(f\"total : {len(refined_local_results)} local results and {len(refined_global_results)} global results\")\n",
    "print(refined_local_results[0]['Round'])\n",
    "\n"
   ]
  },
  {
   "cell_type": "code",
   "execution_count": 39,
   "metadata": {},
   "outputs": [
    {
     "name": "stdout",
     "output_type": "stream",
     "text": [
      "0\n",
      "124016\n"
     ]
    }
   ],
   "source": [
    "## segregate attacker and non-attacker clients\n",
    "\n",
    "benign_clients_result = []\n",
    "malicious_clients_result = []\n",
    "\n",
    "def parse_client_id(role : str) -> int :\n",
    "    \"\"\"\n",
    "    Parse the client id from the role string such as 'Client #593'.\n",
    "    \"\"\"\n",
    "    return int(role.split('#')[1])\n",
    "\n",
    "for line_num, local_result in enumerate(refined_local_results):\n",
    "    current_id = parse_client_id(local_result['Role'])\n",
    "    \n",
    "    if current_id in federated_configuration[\"attacker_id\"]:\n",
    "        #print(f\"{line_num},{current_id}\")\n",
    "        malicious_clients_result.append(local_result)\n",
    "    else:\n",
    "        benign_clients_result.append(local_result)\n",
    "\n",
    "print(len(malicious_clients_result))\n",
    "print(len(benign_clients_result))\n"
   ]
  },
  {
   "cell_type": "code",
   "execution_count": 40,
   "metadata": {},
   "outputs": [
    {
     "name": "stderr",
     "output_type": "stream",
     "text": [
      "/mnt/conda/envs/fedsr/lib/python3.9/site-packages/numpy/core/fromnumeric.py:3440: RuntimeWarning: Mean of empty slice.\n",
      "  return _methods._mean(a, axis=axis, dtype=dtype,\n",
      "/mnt/conda/envs/fedsr/lib/python3.9/site-packages/numpy/core/_methods.py:189: RuntimeWarning: invalid value encountered in double_scalars\n",
      "  ret = ret.dtype.type(ret / rcount)\n",
      "/mnt/conda/envs/fedsr/lib/python3.9/site-packages/numpy/core/_methods.py:262: RuntimeWarning: Degrees of freedom <= 0 for slice\n",
      "  ret = _var(a, axis=axis, dtype=dtype, out=out, ddof=ddof,\n",
      "/mnt/conda/envs/fedsr/lib/python3.9/site-packages/numpy/core/_methods.py:222: RuntimeWarning: invalid value encountered in true_divide\n",
      "  arrmean = um.true_divide(arrmean, div, out=arrmean, casting='unsafe',\n",
      "/mnt/conda/envs/fedsr/lib/python3.9/site-packages/numpy/core/_methods.py:254: RuntimeWarning: invalid value encountered in double_scalars\n",
      "  ret = ret.dtype.type(ret / rcount)\n"
     ]
    },
    {
     "name": "stdout",
     "output_type": "stream",
     "text": [
      "30000\n"
     ]
    },
    {
     "data": {
      "image/png": "[encoded data removed]",
      "text/plain": [
       "<Figure size 640x480 with 1 Axes>"
      ]
     },
     "metadata": {},
     "output_type": "display_data"
    }
   ],
   "source": [
    "import matplotlib.pyplot as plt\n",
    "import matplotlib.patches as mpatches\n",
    "import numpy as np\n",
    "\n",
    "## x-axis : round, y-axis : loss mean, std, max, min\n",
    "\n",
    "## for each round loss values are\n",
    "benign_loss = {i : [] for i in range(federated_configuration[\"total_round_num\"])}\n",
    "malicious_loss = {i : [] for i in range(federated_configuration[\"total_round_num\"])}\n",
    "global_valid_loss = {\"round\" : [], \"loss\" : []}\n",
    "for local_result in benign_clients_result:\n",
    "    current_round = local_result['Round']\n",
    "    benign_loss[current_round].append(local_result['Results_raw']['train_avg_loss'])\n",
    "    \n",
    "for local_result in malicious_clients_result:\n",
    "    current_round = local_result['Round']\n",
    "    malicious_loss[current_round].append(local_result['Results_raw']['train_avg_loss'])\n",
    "\n",
    "for global_result in refined_global_results:\n",
    "    current_round = global_result['Round']\n",
    "    if type(current_round) == str:\n",
    "        continue\n",
    "    if federated_configuration['make_global_eval']:\n",
    "        current_global_val_avg_loss = global_result['Results_raw']['val_avg_loss']\n",
    "    else :\n",
    "        current_global_val_avg_loss =  global_result['Results_avg']['val_avg_loss']\n",
    "    \n",
    "    global_valid_loss['round'].append(current_round)\n",
    "    global_valid_loss['loss'].append(current_global_val_avg_loss)\n",
    "\n",
    "benign_datas = [value for key, value in benign_loss.items()]\n",
    "avg_bening_loss = [np.mean(value) for key, value in benign_loss.items()]\n",
    "bening_loss_std = [np.std(value) for key, value in benign_loss.items()]\n",
    "max_std = np.max(bening_loss_std)\n",
    "min_std = np.min(bening_loss_std)\n",
    "normalized_bening_loss_std = [(value - min_std)/10 for value in bening_loss_std]\n",
    "print(len(normalized_bening_loss_std))\n",
    "#print(normalized_bening_loss_std)\n",
    "#log_normalized_bening_loss_std = [np.log(value) for value in normalized_bening_loss_std]\n",
    "fig, ax = plt.subplots()\n",
    "\n",
    "avg_line_plot = ax.plot(list(benign_loss.keys()), avg_bening_loss, label='Average Train Loss', color='black')\n",
    "## make histogram from the bottom transparent\n",
    "#std_hist = ax.hist(normalized_bening_loss_std, bins = len(list(benign_loss.keys())), label = 'normalized_std_train_loss',color='black', alpha=0.5)\n",
    "#std_histogram = ax.errorbar(list(benign_loss.keys()), avg_bening_loss, yerr=std_bening_loss, fmt='o', color='blue')\n",
    "\n",
    "global_line_plot = ax.plot(global_valid_loss['round'], global_valid_loss['loss'], label='Average Valid Loss', color='purple')\n",
    "\n",
    "plt.xlabel('Round')\n",
    "ax.set_xticks(np.arange(0, federated_configuration[\"total_round_num\"], 5000))\n",
    "plt.rcParams.update({'xtick.labelsize': 5})\n",
    "ax.grid(True)\n",
    "plt.ylabel('Loss')\n",
    "\n",
    "handles, labels = ax.get_legend_handles_labels()\n",
    "#empty_boxplot_label = mpatches.Patch(color='black', label='Train Loss')\n",
    "#handles.extend([empty_boxplot_label]) \n",
    "ax.legend(handles=handles)\n",
    "#ax.set_ylim(0,9)\n",
    "#ax.set_xlim(0,3000)\n",
    "\n",
    "plt.show()\n",
    "\n",
    "\n",
    "\n"
   ]
  },
  {
   "cell_type": "code",
   "execution_count": 41,
   "metadata": {},
   "outputs": [
    {
     "data": {
      "image/png": "[encoded data removed]",
      "text/plain": [
       "<Figure size 640x480 with 1 Axes>"
      ]
     },
     "metadata": {},
     "output_type": "display_data"
    }
   ],
   "source": [
    "import matplotlib.pyplot as plt\n",
    "import matplotlib.patches as mpatches\n",
    "import numpy as np\n",
    "\n",
    "## Measure Recall & NDCG values here\n",
    "## x-axis : round, y-axis : recall@20 valeus\n",
    "\n",
    "\n",
    "global_valid_metrics = {\"round\" : [], \"recall@20\" : []}\n",
    "global_test_metrics = {\"round\" : [], \"recall@20\" : []}\n",
    "\n",
    "for global_result in refined_global_results:\n",
    "    current_round = global_result['Round']\n",
    "    if type(current_round) == str:\n",
    "        continue\n",
    "    if federated_configuration['make_global_eval']:\n",
    "        current_global_val_metrics = global_result['Results_raw']['val_recall_20']\n",
    "        current_global_test_metrics = global_result['Results_raw']['test_recall_20']\n",
    "    else :\n",
    "        None#current_global_val_avg_loss =  global_result['Results_avg']['val_avg_loss']\n",
    "    global_valid_metrics['round'].append(current_round)\n",
    "    global_valid_metrics['recall@20'].append(current_global_val_metrics)\n",
    "    global_test_metrics['round'].append(current_round)\n",
    "    global_test_metrics['recall@20'].append(current_global_test_metrics)\n",
    "\n",
    "\n",
    "fig, ax = plt.subplots()\n",
    "\n",
    "global_test_plot = ax.plot(global_test_metrics['round'], global_test_metrics['recall@20'], label='Test Recall@20', color='red')\n",
    "global_valid_plot = ax.plot(global_valid_metrics['round'], global_valid_metrics['recall@20'], label='Valid Recall@20', color='purple')\n",
    "\n",
    "x_ticks = np.arange(0, federated_configuration[\"total_round_num\"], 5000)\n",
    "ax.set_xticks(x_ticks)\n",
    "plt.rcParams.update({'xtick.labelsize': 5})\n",
    "ax.grid(True)\n",
    "plt.xlabel('Round')\n",
    "plt.ylabel('Recall@20')\n",
    "handles, labels = ax.get_legend_handles_labels()\n",
    "#empty_boxplot_label = mpatches.Patch(color='black', label='Train Loss')\n",
    "#handles.extend([empty_boxplot_label]) \n",
    "ax.legend(handles=handles)\n",
    "#ax.set_xlim(0,3000)\n",
    "ax.set_ylim(0,0.1)\n",
    "plt.show()"
   ]
  }
 ],
 "metadata": {
  "kernelspec": {
   "display_name": "fedsr",
   "language": "python",
   "name": "python3"
  },
  "language_info": {
   "codemirror_mode": {
    "name": "ipython",
    "version": 3
   },
   "file_extension": ".py",
   "mimetype": "text/x-python",
   "name": "python",
   "nbconvert_exporter": "python",
   "pygments_lexer": "ipython3",
   "version": "3.9.13"
  }
 },
 "nbformat": 4,
 "nbformat_minor": 2
}
