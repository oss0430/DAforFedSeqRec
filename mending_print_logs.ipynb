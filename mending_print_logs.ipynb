{
 "cells": [
  {
   "cell_type": "code",
   "execution_count": 1,
   "metadata": {},
   "outputs": [],
   "source": [
    "from log_parser import mend_two_print_logs, _get_exp_files_path, mend_two_eval_logs\n",
    "    "
   ]
  },
  {
   "cell_type": "code",
   "execution_count": 2,
   "metadata": {},
   "outputs": [],
   "source": [
    "print_log_1s = [\n",
    "    \"exp/shadow_sasrec_on_sr_data_lr0.01_lstep40/1022_interrupted_ml-1m/random_deletion/exp_print.log\",\n",
    "    \"exp/shadow_sasrec_on_sr_data_lr0.01_lstep40/1022_interrupted_ml-1m/random_masking/exp_print.log\",\n",
    "    \"exp/shadow_sasrec_on_sr_data_lr0.01_lstep40/1022_interrupted_ml-1m/random_push/exp_print.log\",\n",
    "    \"exp/shadow_sasrec_on_sr_data_lr0.01_lstep40/1022_interrupted_ml-1m/random_replace_1e-1/exp_print.log\",\n",
    "    \"exp/shadow_sasrec_on_sr_data_lr0.01_lstep40/1022_interrupted_ml-1m/random_replace_5e-1/exp_print.log\",\n",
    "    \"exp/shadow_sasrec_on_sr_data_lr0.01_lstep40/1022_interrupted_ml-1m/self_sampled_push/exp_print.log\",\n",
    "    \"exp/shadow_sasrec_on_sr_data_lr0.01_lstep40/1022_interrupted_ml-1m/shuffle/exp_print.log\"\n",
    "    \n",
    "]\n",
    "print_log_2s = [\n",
    "    \"exp/shadow_sasrec_on_sr_data_lr0.01_lstep40/1022_interrupted_ml-1m/random_deletion_starts_from_4000/eval_results.log\",\n",
    "    \"exp/shadow_sasrec_on_sr_data_lr0.01_lstep40/1022_interrupted_ml-1m/random_masking_starts_from_4000/exp_print.log\",\n",
    "    \"exp/shadow_sasrec_on_sr_data_lr0.01_lstep40/1022_interrupted_ml-1m/random_push_starts_from_4000/exp_print.log\",\n",
    "    \"exp/shadow_sasrec_on_sr_data_lr0.01_lstep40/1022_interrupted_ml-1m/random_replace_1e-1_starts_from_4000/exp_print.log\",\n",
    "    \"exp/shadow_sasrec_on_sr_data_lr0.01_lstep40/1022_interrupted_ml-1m/random_replace_5e-1_starts_from_4000/exp_print.log\",\n",
    "    \"exp/shadow_sasrec_on_sr_data_lr0.01_lstep40/1022_interrupted_ml-1m/self_sampled_push_starts_from_4000/exp_print.log\",\n",
    "    \"exp/shadow_sasrec_on_sr_data_lr0.01_lstep40/1022_interrupted_ml-1m/shuffle_starts_from_4000/exp_print.log\"\n",
    "]\n",
    "\n",
    "checkpoint = [4000,4000,4000,4000,4000,4000,4000]\n",
    "\n",
    "mended_outputs = [\n",
    "    \"exp/shadow_sasrec_on_sr_data_lr0.01_lstep40/1022_interrupted_ml-1m/mended_random_deletion_exp_print.log\",\n",
    "    \"exp/shadow_sasrec_on_sr_data_lr0.01_lstep40/1022_interrupted_ml-1m/mended_random_masking_exp_print.log\",\n",
    "    \"exp/shadow_sasrec_on_sr_data_lr0.01_lstep40/1022_interrupted_ml-1m/mended_random_push_exp_print.log\",\n",
    "    \"exp/shadow_sasrec_on_sr_data_lr0.01_lstep40/1022_interrupted_ml-1m/mended_random_replace_1e-1_exp_print.log\",\n",
    "    \"exp/shadow_sasrec_on_sr_data_lr0.01_lstep40/1022_interrupted_ml-1m/mended_random_replace_5e-1_exp_print.log\",\n",
    "    \"exp/shadow_sasrec_on_sr_data_lr0.01_lstep40/1022_interrupted_ml-1m/mended_self_sampled_push_exp_print.log\",\n",
    "    \"exp/shadow_sasrec_on_sr_data_lr0.01_lstep40/1022_interrupted_ml-1m/mended_shuffle_exp_print.log\"\n",
    "]"
   ]
  },
  {
   "cell_type": "code",
   "execution_count": 3,
   "metadata": {},
   "outputs": [
    {
     "name": "stdout",
     "output_type": "stream",
     "text": [
      "Mended log saved at  exp/shadow_sasrec_on_sr_data_lr0.01_lstep40/1022_interrupted_ml-1m/mended_random_deletion_exp_print.log\n",
      "Mended log saved at  exp/shadow_sasrec_on_sr_data_lr0.01_lstep40/1022_interrupted_ml-1m/mended_random_masking_exp_print.log\n",
      "Mended log saved at  exp/shadow_sasrec_on_sr_data_lr0.01_lstep40/1022_interrupted_ml-1m/mended_random_push_exp_print.log\n",
      "Mended log saved at  exp/shadow_sasrec_on_sr_data_lr0.01_lstep40/1022_interrupted_ml-1m/mended_random_replace_1e-1_exp_print.log\n",
      "Mended log saved at  exp/shadow_sasrec_on_sr_data_lr0.01_lstep40/1022_interrupted_ml-1m/mended_random_replace_5e-1_exp_print.log\n",
      "Mended log saved at  exp/shadow_sasrec_on_sr_data_lr0.01_lstep40/1022_interrupted_ml-1m/mended_self_sampled_push_exp_print.log\n",
      "Mended log saved at  exp/shadow_sasrec_on_sr_data_lr0.01_lstep40/1022_interrupted_ml-1m/mended_shuffle_exp_print.log\n"
     ]
    }
   ],
   "source": [
    "for i in range(len(print_log_1s)):\n",
    "    mended_log = mend_two_print_logs(print_log_1s[i], print_log_2s[i], checkpoint[i])\n",
    "    with open(mended_outputs[i], 'w') as f:\n",
    "        f.write(mended_log)\n",
    "    print(\"Mended log saved at \", mended_outputs[i])"
   ]
  },
  {
   "cell_type": "code",
   "execution_count": null,
   "metadata": {},
   "outputs": [],
   "source": [
    "import os\n",
    "\n",
    "exp_1s = [\n",
    "    \"exp/shadow_sasrec_on_sr_data_lr0.01_lstep40/1022_interrupted_Sports/cut_middle\",\n",
    "    \"exp/shadow_sasrec_on_sr_data_lr0.01_lstep40/1022_interrupted_Sports/no_augs\",\n",
    "    \"exp/shadow_sasrec_on_sr_data_lr0.01_lstep40/1022_interrupted_Sports/random_deletion\",\n",
    "    \"exp/shadow_sasrec_on_sr_data_lr0.01_lstep40/1022_interrupted_Sports/random_masking\",\n",
    "    \"exp/shadow_sasrec_on_sr_data_lr0.01_lstep40/1022_interrupted_Sports/random_push\",\n",
    "    \"exp/shadow_sasrec_on_sr_data_lr0.01_lstep40/1022_interrupted_Sports/random_replace_1e-1\",\n",
    "    \"exp/shadow_sasrec_on_sr_data_lr0.01_lstep40/1022_interrupted_Sports/random_replace_5e-1\",\n",
    "    \"exp/shadow_sasrec_on_sr_data_lr0.01_lstep40/1022_interrupted_Sports/self_sampled_push\",\n",
    "    \"exp/shadow_sasrec_on_sr_data_lr0.01_lstep40/1022_interrupted_Sports/shuffle\"\n",
    "]\n",
    "exp_2s = [\n",
    "    \"exp/shadow_sasrec_on_sr_data_lr0.01_lstep40/1022_interrupted_Sports/cut_middle_starts_from_5000\",\n",
    "    \"exp/shadow_sasrec_on_sr_data_lr0.01_lstep40/1022_interrupted_Sports/no_augs_starts_from_5000\",\n",
    "    \"exp/shadow_sasrec_on_sr_data_lr0.01_lstep40/1022_interrupted_Sports/random_deletion_starts_from_5000\",\n",
    "    \"exp/shadow_sasrec_on_sr_data_lr0.01_lstep40/1022_interrupted_Sports/random_masking_starts_from_5000\",\n",
    "    \"exp/shadow_sasrec_on_sr_data_lr0.01_lstep40/1022_interrupted_Sports/random_push_starts_from_5000\",\n",
    "    \"exp/shadow_sasrec_on_sr_data_lr0.01_lstep40/1022_interrupted_Sports/random_replace_1e-1_starts_from_5000\",\n",
    "    \"exp/shadow_sasrec_on_sr_data_lr0.01_lstep40/1022_interrupted_Sports/random_replace_5e-1_starts_from_5000\",\n",
    "    \"exp/shadow_sasrec_on_sr_data_lr0.01_lstep40/1022_interrupted_Sports/self_sampled_push_starts_from_5000\",\n",
    "    \"exp/shadow_sasrec_on_sr_data_lr0.01_lstep40/1022_interrupted_Sports/shuffle_starts_from_5000\"\n",
    "]\n",
    "\n",
    "checkpoint = [5000,5000,5000,5000,5000,5000,5000,5000,5000]\n",
    "\n",
    "for i in range(len(exp_1s)):\n",
    "    eval_log_1_path, config_1_path, print_log_1_path  = _get_exp_files_path(exp_1s[i])\n",
    "    eval_log_2_path, config_2_path, print_log_2_path  = _get_exp_files_path(exp_2s[i])\n",
    "    \n",
    "    with open(eval_log_1_path, 'r') as f:\n",
    "        eval_log_1 = f.read()\n",
    "    with open(eval_log_2_path, 'r') as f:\n",
    "        eval_log_2 = f.read()\n",
    "    with open(print_log_1_path, 'r') as f:\n",
    "        print_log_1 = f.read()\n",
    "    with open(print_log_2_path, 'r') as f:\n",
    "        print_log_2 = f.read()\n",
    "    \n",
    "    mended_print_log = mend_two_print_logs(print_log_1, print_log_2, checkpoint[i])\n",
    "    mended_eval_log = mend_two_eval_logs(eval_log_1, eval_log_2, checkpoint[i])\n",
    "    \n",
    "    ## save mended logs``\n",
    "    mended_dir = exp_1s[i] + \"_mended\"\n",
    "    if not os.path.exists(mended_dir):\n",
    "        os.makedirs(mended_dir)\n",
    "    \n",
    "    with open(os.path.join(mended_dir, \"exp_print.log\"), 'w') as f:\n",
    "        f.write(mended_print_log)\n",
    "    with open(os.path.join(mended_dir, \"eval_results.log\"), 'w') as f:\n",
    "        f.write(mended_eval_log)\n",
    "    \n",
    "    \n",
    "    print(\"Mended logs saved at \", mended_dir)\n",
    "    \n",
    "    \n",
    "    \n",
    "    "
   ]
  }
 ],
 "metadata": {
  "kernelspec": {
   "display_name": "fedsr",
   "language": "python",
   "name": "python3"
  },
  "language_info": {
   "codemirror_mode": {
    "name": "ipython",
    "version": 3
   },
   "file_extension": ".py",
   "mimetype": "text/x-python",
   "name": "python",
   "nbconvert_exporter": "python",
   "pygments_lexer": "ipython3",
   "version": "3.9.13"
  }
 },
 "nbformat": 4,
 "nbformat_minor": 2
}
